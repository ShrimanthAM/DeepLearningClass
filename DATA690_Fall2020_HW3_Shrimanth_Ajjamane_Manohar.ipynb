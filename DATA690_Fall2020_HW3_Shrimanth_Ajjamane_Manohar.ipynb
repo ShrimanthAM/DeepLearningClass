{
  "nbformat": 4,
  "nbformat_minor": 0,
  "metadata": {
    "colab": {
      "name": "DATA690 Fall2020: HW3 Shrimanth Ajjamane Manohar.ipynb",
      "provenance": [],
      "authorship_tag": "ABX9TyO/toYUW6OMUqszBZrJwm+C",
      "include_colab_link": true
    },
    "kernelspec": {
      "name": "python3",
      "display_name": "Python 3"
    }
  },
  "cells": [
    {
      "cell_type": "markdown",
      "metadata": {
        "id": "view-in-github",
        "colab_type": "text"
      },
      "source": [
        "<a href=\"https://colab.research.google.com/github/ShrimanthAM/DeepLearningClass/blob/master/DATA690_Fall2020_HW3_Shrimanth_Ajjamane_Manohar.ipynb\" target=\"_parent\"><img src=\"https://colab.research.google.com/assets/colab-badge.svg\" alt=\"Open In Colab\"/></a>"
      ]
    },
    {
      "cell_type": "markdown",
      "metadata": {
        "id": "KFISYy3DMmiI"
      },
      "source": [
        "# Exercises, Due October 19th (thats 3 weeks!) \n",
        "\n",
        "1. Modify  `LanguageNameDataset` the so that the `vocabulary` object in the constructor does not need to be passed in as an argument, but instead can be _inferred_ from the input dataset. This means you will need to iterate through the dataset, and create a dictionary with all of the characters _actually seen_. One way to implement this is to create a default value  `vocabulary=None`, and use `is vocabulary None:` to change behavior. \n",
        "2. Update the `LanguageNameDataset` with a flag in the constructor for `unicode=False`. You should change any of the code you need to so that when `unicode=True`, the `LanguageNameDataset` will instead keep all the unicode characters seen when `vocabulary=None` (this depends on question 1). Train a new RNN classifier with `unicode=True`, how does it impact the results?\n",
        "4. The original training/test split for this task was created by randomly sampling the dataset. Create your own function that performs _stratified_ splitting. This means it will select a test set that has the exact same proportions of each class. How does this impact your apparent results?\n",
        "5. Replace the last output layer `nn.Linear(hidden_nodes, classes)` from the RNN implementation with a fully-connected network with 2 hidden layers and one output layer. How does this impact the accuracy of the model?\n",
        "7. Compare training a 3-layer bidirectional RNN with batch sizes of $B=\\{1, 2, 4, 8\\}$ for 5 epochs. Which batch size seems to give the best balance between speed and accuracy? "
      ]
    },
    {
      "cell_type": "code",
      "metadata": {
        "id": "8Jo8-AwTMlWV"
      },
      "source": [
        ""
      ],
      "execution_count": null,
      "outputs": []
    }
  ]
}