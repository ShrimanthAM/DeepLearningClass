{
  "nbformat": 4,
  "nbformat_minor": 0,
  "metadata": {
    "author": "mes$",
    "celltoolbar": "Edit Metadata",
    "kernelspec": {
      "display_name": "Python 3",
      "language": "python",
      "name": "python3"
    },
    "language_info": {
      "codemirror_mode": {
        "name": "ipython",
        "version": 3
      },
      "file_extension": ".py",
      "mimetype": "text/x-python",
      "name": "python",
      "nbconvert_exporter": "python",
      "pygments_lexer": "ipython3",
      "version": "3.7.5"
    },
    "latex_envs": {
      "LaTeX_envs_menu_present": true,
      "autoclose": false,
      "autocomplete": false,
      "bibliofile": "biblio.bib",
      "cite_by": "apalike",
      "current_citInitial": 1,
      "eqLabelWithNumbers": true,
      "eqNumInitial": 1,
      "hotkeys": {
        "equation": "Ctrl-E",
        "itemize": "Ctrl-I"
      },
      "labels_anchors": false,
      "latex_user_defs": false,
      "report_style_numbering": false,
      "user_envs_cfg": false
    },
    "latex_metadata": {
      "title": "PyTorch Foundations"
    },
    "varInspector": {
      "cols": {
        "lenName": 16,
        "lenType": 16,
        "lenVar": 40
      },
      "kernels_config": {
        "python": {
          "delete_cmd_postfix": "",
          "delete_cmd_prefix": "del ",
          "library": "var_list.py",
          "varRefreshCmd": "print(var_dic_list())"
        },
        "r": {
          "delete_cmd_postfix": ") ",
          "delete_cmd_prefix": "rm(",
          "library": "var_list.r",
          "varRefreshCmd": "cat(var_dic_list()) "
        }
      },
      "types_to_exclude": [
        "module",
        "function",
        "builtin_function_or_method",
        "instance",
        "_Feature"
      ],
      "window_display": false
    },
    "colab": {
      "name": "DATA690 Fall 2020HW-1.ipynb",
      "provenance": [],
      "collapsed_sections": [],
      "include_colab_link": true
    },
    "accelerator": "GPU"
  },
  "cells": [
    {
      "cell_type": "markdown",
      "metadata": {
        "id": "view-in-github",
        "colab_type": "text"
      },
      "source": [
        "<a href=\"https://colab.research.google.com/github/ShrimanthAM/DeepLearningClass/blob/master/DATA690_Fall_2020HW_1.ipynb\" target=\"_parent\"><img src=\"https://colab.research.google.com/assets/colab-badge.svg\" alt=\"Open In Colab\"/></a>"
      ]
    },
    {
      "cell_type": "markdown",
      "metadata": {
        "id": "zZOab98hlV_p",
        "colab_type": "text"
      },
      "source": [
        "# HW 1, Due  September 14th, 2020, 1 minute before class starts. \n",
        "\n",
        "1. Write a series of `for` loops that compute the average value in `torch_tensor3d`\n",
        "1. Write code that indexes into `torch_tensor3d` and prints out the value \"13\". \n",
        "1. For every power of 2 (i.e., $2^i$ or `2**i` ) up to $2^{11}$, create a random matrix $X \\in \\mathbb{R}^{2^i, 2^i}$ (i.e., `X.shape` should give `(2**i, 2**i)`). Time how long it takes to compute $X X$ (i.e., `X @ X`) on a CPU and on a GPU and plot the speedup. For what sized matrices is the CPU faster than the GPU? \n",
        "2. We used PyTorch to find the numeric solution to $f(x) = (x-2)^2$. Write code that will find the solution to  $f(x)= \\sin(x-2)\\cdot(x+2)^2+\\sqrt{\\cos(x)}$. What answer do you get?\n",
        "5. Affirm that you will not share the coure notebooks or images with any other person and will only use them for personal use. "
      ]
    },
    {
      "cell_type": "code",
      "metadata": {
        "ExecuteTime": {
          "end_time": "2020-05-09T05:50:24.594119Z",
          "start_time": "2020-05-09T05:50:24.019015Z"
        },
        "tags": [
          "remove_output"
        ],
        "id": "W8Q1HVI8-DDY",
        "colab_type": "code",
        "colab": {
          "base_uri": "https://localhost:8080/",
          "height": 104
        },
        "outputId": "cefaa870-16a5-4701-8c7b-d6902717f0a7"
      },
      "source": [
        "import seaborn as sns\n",
        "import matplotlib.pyplot as plt\n",
        "import numpy as np\n",
        "from tqdm.autonotebook import tqdm\n",
        "import pandas as pd"
      ],
      "execution_count": null,
      "outputs": [
        {
          "output_type": "stream",
          "text": [
            "/usr/local/lib/python3.6/dist-packages/statsmodels/tools/_testing.py:19: FutureWarning: pandas.util.testing is deprecated. Use the functions in the public API at pandas.testing instead.\n",
            "  import pandas.util.testing as tm\n",
            "/usr/local/lib/python3.6/dist-packages/ipykernel_launcher.py:4: TqdmExperimentalWarning: Using `tqdm.autonotebook.tqdm` in notebook mode. Use `tqdm.tqdm` instead to force console mode (e.g. in jupyter console)\n",
            "  after removing the cwd from sys.path.\n"
          ],
          "name": "stderr"
        }
      ]
    },
    {
      "cell_type": "markdown",
      "metadata": {
        "id": "OP20bNCI-DDc",
        "colab_type": "text"
      },
      "source": [
        "As we progress through this book, we are not going to repeatedly show all of the imports, as that is mostly a waste of paper. Instead they will be available on-line as part of the downloadable copies of the code, which can be found LINK GOES HERE ONCE READY. "
      ]
    },
    {
      "cell_type": "code",
      "metadata": {
        "ExecuteTime": {
          "end_time": "2020-05-09T05:50:24.599061Z",
          "start_time": "2020-05-09T05:50:24.595465Z"
        },
        "tags": [
          "remove_cell"
        ],
        "id": "vg_vdSiE-DDd",
        "colab_type": "code",
        "colab": {}
      },
      "source": [
        "%matplotlib inline\n",
        "from IPython.display import set_matplotlib_formats\n",
        "set_matplotlib_formats('png', 'pdf')"
      ],
      "execution_count": null,
      "outputs": []
    },
    {
      "cell_type": "code",
      "metadata": {
        "ExecuteTime": {
          "end_time": "2020-05-09T05:50:25.711534Z",
          "start_time": "2020-05-09T05:50:25.485281Z"
        },
        "id": "QOLXJ1k8-DDi",
        "colab_type": "code",
        "colab": {}
      },
      "source": [
        "import torch"
      ],
      "execution_count": null,
      "outputs": []
    },
    {
      "cell_type": "code",
      "metadata": {
        "ExecuteTime": {
          "end_time": "2020-05-09T05:50:25.718462Z",
          "start_time": "2020-05-09T05:50:25.713398Z"
        },
        "id": "Ow6jpi5--DDl",
        "colab_type": "code",
        "colab": {}
      },
      "source": [
        " torch_tensor3d = torch.tensor([\n",
        "                            [\n",
        "                            [ 1,  2,  3], \n",
        "                            [ 4,  5,  6],\n",
        "                            ],\n",
        "                            [\n",
        "                            [ 7,  8,  9], \n",
        "                            [10, 11, 12],\n",
        "                            ],\n",
        "                            [\n",
        "                            [13, 14, 15], \n",
        "                            [16, 17, 18],\n",
        "                            ],\n",
        "                            [\n",
        "                            [19, 20, 21], \n",
        "                            [22, 23, 24],\n",
        "                            ]\n",
        "                              ])"
      ],
      "execution_count": null,
      "outputs": []
    },
    {
      "cell_type": "code",
      "metadata": {
        "ExecuteTime": {
          "end_time": "2020-05-09T05:50:26.795353Z",
          "start_time": "2020-05-09T05:50:26.789921Z"
        },
        "id": "WTpiNicf-DDo",
        "colab_type": "code",
        "colab": {
          "base_uri": "https://localhost:8080/",
          "height": 34
        },
        "outputId": "10f0ca49-7124-4648-c340-e870464a0391"
      },
      "source": [
        "print(torch_tensor3d.size())"
      ],
      "execution_count": null,
      "outputs": [
        {
          "output_type": "stream",
          "text": [
            "torch.Size([4, 2, 3])\n"
          ],
          "name": "stdout"
        }
      ]
    },
    {
      "cell_type": "code",
      "metadata": {
        "id": "q2EJY9v0mejg",
        "colab_type": "code",
        "colab": {
          "base_uri": "https://localhost:8080/",
          "height": 202
        },
        "outputId": "c736c40a-3bc7-48c2-e69c-42587441797f"
      },
      "source": [
        "torch_tensor3d"
      ],
      "execution_count": null,
      "outputs": [
        {
          "output_type": "execute_result",
          "data": {
            "text/plain": [
              "tensor([[[ 1,  2,  3],\n",
              "         [ 4,  5,  6]],\n",
              "\n",
              "        [[ 7,  8,  9],\n",
              "         [10, 11, 12]],\n",
              "\n",
              "        [[13, 14, 15],\n",
              "         [16, 17, 18]],\n",
              "\n",
              "        [[19, 20, 21],\n",
              "         [22, 23, 24]]])"
            ]
          },
          "metadata": {
            "tags": []
          },
          "execution_count": 6
        }
      ]
    },
    {
      "cell_type": "code",
      "metadata": {
        "ExecuteTime": {
          "end_time": "2020-05-09T05:50:31.213092Z",
          "start_time": "2020-05-09T05:50:31.207543Z"
        },
        "id": "fKM29P9c-DEG",
        "colab_type": "code",
        "colab": {
          "base_uri": "https://localhost:8080/",
          "height": 34
        },
        "outputId": "123ca2b3-4cd6-4fe3-d7ec-510a8ccd0674"
      },
      "source": [
        "print(torch.transpose(torch_tensor3d, 0, 2).shape)"
      ],
      "execution_count": null,
      "outputs": [
        {
          "output_type": "stream",
          "text": [
            "torch.Size([3, 2, 4])\n"
          ],
          "name": "stdout"
        }
      ]
    },
    {
      "cell_type": "code",
      "metadata": {
        "id": "sqRb_QO_nJko",
        "colab_type": "code",
        "colab": {
          "base_uri": "https://localhost:8080/",
          "height": 151
        },
        "outputId": "3c80a137-64a4-4254-c762-2d872c50c3ad"
      },
      "source": [
        "torch.transpose(torch_tensor3d, 0, 2)"
      ],
      "execution_count": null,
      "outputs": [
        {
          "output_type": "execute_result",
          "data": {
            "text/plain": [
              "tensor([[[ 1,  7, 13, 19],\n",
              "         [ 4, 10, 16, 22]],\n",
              "\n",
              "        [[ 2,  8, 14, 20],\n",
              "         [ 5, 11, 17, 23]],\n",
              "\n",
              "        [[ 3,  9, 15, 21],\n",
              "         [ 6, 12, 18, 24]]])"
            ]
          },
          "metadata": {
            "tags": []
          },
          "execution_count": 8
        }
      ]
    },
    {
      "cell_type": "code",
      "metadata": {
        "ExecuteTime": {
          "end_time": "2020-05-09T05:50:36.124878Z",
          "start_time": "2020-05-09T05:50:36.092633Z"
        },
        "id": "jxESK0Xx-DEL",
        "colab_type": "code",
        "colab": {
          "base_uri": "https://localhost:8080/",
          "height": 34
        },
        "outputId": "3c1c23bb-c52c-4ef9-9956-8632a8a440db"
      },
      "source": [
        "print(\"Is CUDA available? :\", torch.cuda.is_available())\n",
        "device = torch.device(\"cuda\")"
      ],
      "execution_count": null,
      "outputs": [
        {
          "output_type": "stream",
          "text": [
            "Is CUDA available? : True\n"
          ],
          "name": "stdout"
        }
      ]
    },
    {
      "cell_type": "code",
      "metadata": {
        "id": "YN6ynuJpCTle",
        "colab_type": "code",
        "colab": {}
      },
      "source": [
        "if torch.cuda.is_available():\n",
        "  device = torch.device(\"cuda\")\n",
        "else:\n",
        "  device = torch.device(\"cpu\")"
      ],
      "execution_count": null,
      "outputs": []
    },
    {
      "cell_type": "code",
      "metadata": {
        "id": "n7u3FR34u7Bi",
        "colab_type": "code",
        "colab": {
          "base_uri": "https://localhost:8080/",
          "height": 34
        },
        "outputId": "3ad1a43f-99b6-40ee-bc5f-f417fe212237"
      },
      "source": [
        "device"
      ],
      "execution_count": null,
      "outputs": [
        {
          "output_type": "execute_result",
          "data": {
            "text/plain": [
              "device(type='cuda')"
            ]
          },
          "metadata": {
            "tags": []
          },
          "execution_count": 11
        }
      ]
    },
    {
      "cell_type": "markdown",
      "metadata": {
        "id": "MypOJZfq-DE4",
        "colab_type": "text"
      },
      "source": [
        "# HW 1, Due  September 14th, 2020, 1 minute before class starts. \n",
        "\n",
        "1. Write a series of `for` loops that compute the average value in `torch_tensor3d`\n",
        "1. Write code that indexes into `torch_tensor3d` and prints out the value \"13\". \n",
        "1. For every power of 2 (i.e., $2^i$ or `2**i` ) up to $2^{11}$, create a random matrix $X \\in \\mathbb{R}^{2^i, 2^i}$ (i.e., `X.shape` should give `(2**i, 2**i)`). Time how long it takes to compute $X X$ (i.e., `X @ X`) on a CPU and on a GPU and plot the speedup. For what sized matrices is the CPU faster than the GPU? \n",
        "2. We used PyTorch to find the numeric solution to $f(x) = (x-2)^2$. Write code that will find the solution to  $f(x)= \\sin(x-2)\\cdot(x+2)^2+\\sqrt{\\cos(x)}$. What answer do you get?\n",
        "5. Affirm that you will not share the coure notebooks or images with any other person and will only use them for personal use. "
      ]
    },
    {
      "cell_type": "markdown",
      "metadata": {
        "id": "PBp_P4Lkb73N",
        "colab_type": "text"
      },
      "source": [
        "**Q1**. Write a series of for loops that compute the average value in torch_tensor3d"
      ]
    },
    {
      "cell_type": "code",
      "metadata": {
        "id": "Z_F3OdU_qqR_",
        "colab_type": "code",
        "colab": {}
      },
      "source": [
        "l=[]"
      ],
      "execution_count": null,
      "outputs": []
    },
    {
      "cell_type": "code",
      "metadata": {
        "id": "WwNNzpNUcJzC",
        "colab_type": "code",
        "colab": {}
      },
      "source": [
        "l=torch_tensor3d.shape"
      ],
      "execution_count": null,
      "outputs": []
    },
    {
      "cell_type": "code",
      "metadata": {
        "id": "A269Fkk2ZZ3U",
        "colab_type": "code",
        "colab": {}
      },
      "source": [
        ""
      ],
      "execution_count": null,
      "outputs": []
    },
    {
      "cell_type": "code",
      "metadata": {
        "id": "5kpwBDVGZp43",
        "colab_type": "code",
        "colab": {
          "base_uri": "https://localhost:8080/",
          "height": 34
        },
        "outputId": "a2e3be7d-c290-4022-fac4-c976fa16d9f2"
      },
      "source": [
        "l[0]"
      ],
      "execution_count": null,
      "outputs": [
        {
          "output_type": "execute_result",
          "data": {
            "text/plain": [
              "4"
            ]
          },
          "metadata": {
            "tags": []
          },
          "execution_count": 18
        }
      ]
    },
    {
      "cell_type": "code",
      "metadata": {
        "id": "HPMbjFJvcKGI",
        "colab_type": "code",
        "colab": {
          "base_uri": "https://localhost:8080/",
          "height": 67
        },
        "outputId": "f23fa265-51d5-4feb-f4c6-eafed65f61ab"
      },
      "source": [
        "sum1=[]\n",
        "lst=[]\n",
        "for x in range(l[0]):\n",
        "    for y in range(l[1]):\n",
        "        for z in range(l[2]):\n",
        "          lst.append(torch_tensor3d[x][y][z])\n",
        "#lst.item()          \n",
        "#print(lst)\n",
        "lst=torch.tensor(lst)\n",
        "print(lst)\n",
        "n=l[0]*l[1]*l[2]\n",
        "avg=torch.sum(lst)\n",
        "print(n)\n",
        "avg\n"
      ],
      "execution_count": null,
      "outputs": [
        {
          "output_type": "stream",
          "text": [
            "tensor([ 1,  2,  3,  4,  5,  6,  7,  8,  9, 10, 11, 12, 13, 14, 15, 16, 17, 18,\n",
            "        19, 20, 21, 22, 23, 24])\n",
            "24\n"
          ],
          "name": "stdout"
        }
      ]
    },
    {
      "cell_type": "code",
      "metadata": {
        "id": "chQS1qSszy03",
        "colab_type": "code",
        "colab": {
          "base_uri": "https://localhost:8080/",
          "height": 34
        },
        "outputId": "ef71fecc-95c1-4dee-f6de-76bf6dc3120c"
      },
      "source": [
        "torch_tensor3d.sum()"
      ],
      "execution_count": null,
      "outputs": [
        {
          "output_type": "execute_result",
          "data": {
            "text/plain": [
              "tensor(300)"
            ]
          },
          "metadata": {
            "tags": []
          },
          "execution_count": 20
        }
      ]
    },
    {
      "cell_type": "markdown",
      "metadata": {
        "id": "xlDcre6ccKp9",
        "colab_type": "text"
      },
      "source": [
        "**Q2**. Write code that indexes into `torch_tensor3d` and prints out the value \"13\"."
      ]
    },
    {
      "cell_type": "code",
      "metadata": {
        "id": "jjiqRyWoKL-h",
        "colab_type": "code",
        "colab": {
          "base_uri": "https://localhost:8080/",
          "height": 202
        },
        "outputId": "07984bb4-9147-469d-9c3c-62312637e4c8"
      },
      "source": [
        "torch_tensor3d"
      ],
      "execution_count": null,
      "outputs": [
        {
          "output_type": "execute_result",
          "data": {
            "text/plain": [
              "tensor([[[ 1,  2,  3],\n",
              "         [ 4,  5,  6]],\n",
              "\n",
              "        [[ 7,  8,  9],\n",
              "         [10, 11, 12]],\n",
              "\n",
              "        [[13, 14, 15],\n",
              "         [16, 17, 18]],\n",
              "\n",
              "        [[19, 20, 21],\n",
              "         [22, 23, 24]]])"
            ]
          },
          "metadata": {
            "tags": []
          },
          "execution_count": 21
        }
      ]
    },
    {
      "cell_type": "code",
      "metadata": {
        "id": "a81sEwHyqAWe",
        "colab_type": "code",
        "colab": {
          "base_uri": "https://localhost:8080/",
          "height": 34
        },
        "outputId": "cfbde657-3825-496c-ea79-169ed8d55386"
      },
      "source": [
        "torch_tensor3d[2,0,0].item()"
      ],
      "execution_count": null,
      "outputs": [
        {
          "output_type": "execute_result",
          "data": {
            "text/plain": [
              "13"
            ]
          },
          "metadata": {
            "tags": []
          },
          "execution_count": 22
        }
      ]
    },
    {
      "cell_type": "markdown",
      "metadata": {
        "id": "6RppWscvuc84",
        "colab_type": "text"
      },
      "source": [
        "**Q3** For every power of 2 (i.e., $2^i$ or `2**i` ) up to $2^{11}$, create a random matrix $X \\in \\mathbb{R}^{2^i, 2^i}$ (i.e., `X.shape` should give `(2**i, 2**i)`). Time how long it takes to compute $X X$ (i.e., `X @ X`) on a CPU and on a GPU and plot the speedup. For what sized matrices is the CPU faster than the GPU?"
      ]
    },
    {
      "cell_type": "code",
      "metadata": {
        "id": "ADZFG4ZSVnje",
        "colab_type": "code",
        "colab": {}
      },
      "source": [
        "import timeit\n",
        "t_cpu=[]\n",
        "for a in range (11):\n",
        "   c = torch.rand(2**a, 2**a)\n",
        "   #print(c.shape)\n",
        "   time_cpu = timeit.timeit(\"c@c\", globals=globals(), number=100)\n",
        "   time_cpu=round(time_cpu, 5)\n",
        "   t_cpu.append(time_cpu) \n",
        "   #print(round(time_cpu, 3))"
      ],
      "execution_count": null,
      "outputs": []
    },
    {
      "cell_type": "code",
      "metadata": {
        "id": "KDuisfGJ13Uo",
        "colab_type": "code",
        "colab": {
          "base_uri": "https://localhost:8080/",
          "height": 202
        },
        "outputId": "9da95717-490d-48ca-8adc-fc4afbf528e2"
      },
      "source": [
        "t_cpu"
      ],
      "execution_count": null,
      "outputs": [
        {
          "output_type": "execute_result",
          "data": {
            "text/plain": [
              "[0.00201,\n",
              " 0.00068,\n",
              " 0.00052,\n",
              " 0.00095,\n",
              " 0.00064,\n",
              " 0.00068,\n",
              " 0.00155,\n",
              " 0.00977,\n",
              " 0.04646,\n",
              " 0.3667,\n",
              " 2.83531]"
            ]
          },
          "metadata": {
            "tags": []
          },
          "execution_count": 42
        }
      ]
    },
    {
      "cell_type": "code",
      "metadata": {
        "id": "640tkkhBqwE5",
        "colab_type": "code",
        "colab": {
          "base_uri": "https://localhost:8080/",
          "height": 282
        },
        "outputId": "65b41eb2-39d2-4167-8a29-a5c392f34131"
      },
      "source": [
        "plt.plot(t_cpu)"
      ],
      "execution_count": null,
      "outputs": [
        {
          "output_type": "execute_result",
          "data": {
            "text/plain": [
              "[<matplotlib.lines.Line2D at 0x7f5d31c970b8>]"
            ]
          },
          "metadata": {
            "tags": []
          },
          "execution_count": 43
        },
        {
          "output_type": "display_data",
          "data": {
            "image/png": "[encoded data removed]",
            "application/pdf": "[encoded data removed]",
            "text/plain": [
              "<Figure size 432x288 with 1 Axes>"
            ]
          },
          "metadata": {
            "tags": [],
            "needs_background": "light"
          }
        }
      ]
    },
    {
      "cell_type": "code",
      "metadata": {
        "id": "1--xksAjubnu",
        "colab_type": "code",
        "colab": {}
      },
      "source": [
        "t_gpu=[]\n",
        "for b in range (10):\n",
        "   y = torch.rand(2**b,2**b)\n",
        "   y = y.to(device)\n",
        "   #print(y.shape)\n",
        "   time_gpu = timeit.timeit(\"y@y\", globals=globals(), number=100)\n",
        "   time_gpu=round(time_gpu,5)\n",
        "   t_gpu.append(time_gpu)\n",
        "   #print(time_gpu)"
      ],
      "execution_count": null,
      "outputs": []
    },
    {
      "cell_type": "code",
      "metadata": {
        "id": "WsFsMDno17Ld",
        "colab_type": "code",
        "colab": {
          "base_uri": "https://localhost:8080/",
          "height": 185
        },
        "outputId": "f20af23c-dd41-43ec-9b1d-59c7e1c03871"
      },
      "source": [
        "t_gpu"
      ],
      "execution_count": null,
      "outputs": [
        {
          "output_type": "execute_result",
          "data": {
            "text/plain": [
              "[0.00154,\n",
              " 0.00116,\n",
              " 0.00112,\n",
              " 0.00103,\n",
              " 0.00121,\n",
              " 0.00174,\n",
              " 0.0011,\n",
              " 0.00112,\n",
              " 0.00111,\n",
              " 0.00105]"
            ]
          },
          "metadata": {
            "tags": []
          },
          "execution_count": 49
        }
      ]
    },
    {
      "cell_type": "code",
      "metadata": {
        "id": "EzL1JpmH08Te",
        "colab_type": "code",
        "colab": {
          "base_uri": "https://localhost:8080/",
          "height": 284
        },
        "outputId": "25dffd93-7f0c-4eb5-89e7-37a27b1a6815"
      },
      "source": [
        "plt.plot(t_gpu)"
      ],
      "execution_count": null,
      "outputs": [
        {
          "output_type": "execute_result",
          "data": {
            "text/plain": [
              "[<matplotlib.lines.Line2D at 0x7f5d31d03dd8>]"
            ]
          },
          "metadata": {
            "tags": []
          },
          "execution_count": 37
        },
        {
          "output_type": "display_data",
          "data": {
            "image/png": "[encoded data removed]",
            "application/pdf": "[encoded data removed]",
            "text/plain": [
              "<Figure size 432x288 with 1 Axes>"
            ]
          },
          "metadata": {
            "tags": [],
            "needs_background": "light"
          }
        }
      ]
    },
    {
      "cell_type": "markdown",
      "metadata": {
        "id": "824VWeCsorTp",
        "colab_type": "text"
      },
      "source": [
        "Q4. We used PyTorch to find the numeric solution to $f(x) = (x-2)^2$. Write code that will find the solution to  $f(x)= \\sin(x-2)\\cdot(x+2)^2+\\sqrt{\\cos(x)}$. What answer do you get?\n"
      ]
    },
    {
      "cell_type": "code",
      "metadata": {
        "id": "DsVqhvhpvd5a",
        "colab_type": "code",
        "colab": {}
      },
      "source": [
        "#def f(x):\n",
        "#    return torch.pow((x-2.0), 2) \n",
        "\n",
        "def f(x):\n",
        "  return torch.add(torch.mul(torch.sin(x-2.0),torch.pow((x+2.0),2)),torch.sqrt(torch.cos(x)))\n",
        "\n",
        "#x_axis_vals = np.linspace(-7,9,100) \n",
        "#y_axis_vals = f(torch.tensor(x_axis_vals)).numpy()\n",
        "\n",
        "#sns.lineplot(x_axis_vals, y_axis_vals, label='$f(x)=(x-2)^2$')"
      ],
      "execution_count": null,
      "outputs": []
    },
    {
      "cell_type": "code",
      "metadata": {
        "id": "MDicTg87pwFj",
        "colab_type": "code",
        "colab": {}
      },
      "source": [
        "x_axis_vals = np.linspace(-7,9,100)"
      ],
      "execution_count": null,
      "outputs": []
    },
    {
      "cell_type": "code",
      "metadata": {
        "id": "8zov4K4NrJvy",
        "colab_type": "code",
        "colab": {
          "base_uri": "https://localhost:8080/",
          "height": 353
        },
        "outputId": "596b8bd4-8082-42dc-d79c-d32f73a825bb"
      },
      "source": [
        "x_axis_vals"
      ],
      "execution_count": null,
      "outputs": [
        {
          "output_type": "execute_result",
          "data": {
            "text/plain": [
              "array([-7.        , -6.83838384, -6.67676768, -6.51515152, -6.35353535,\n",
              "       -6.19191919, -6.03030303, -5.86868687, -5.70707071, -5.54545455,\n",
              "       -5.38383838, -5.22222222, -5.06060606, -4.8989899 , -4.73737374,\n",
              "       -4.57575758, -4.41414141, -4.25252525, -4.09090909, -3.92929293,\n",
              "       -3.76767677, -3.60606061, -3.44444444, -3.28282828, -3.12121212,\n",
              "       -2.95959596, -2.7979798 , -2.63636364, -2.47474747, -2.31313131,\n",
              "       -2.15151515, -1.98989899, -1.82828283, -1.66666667, -1.50505051,\n",
              "       -1.34343434, -1.18181818, -1.02020202, -0.85858586, -0.6969697 ,\n",
              "       -0.53535354, -0.37373737, -0.21212121, -0.05050505,  0.11111111,\n",
              "        0.27272727,  0.43434343,  0.5959596 ,  0.75757576,  0.91919192,\n",
              "        1.08080808,  1.24242424,  1.4040404 ,  1.56565657,  1.72727273,\n",
              "        1.88888889,  2.05050505,  2.21212121,  2.37373737,  2.53535354,\n",
              "        2.6969697 ,  2.85858586,  3.02020202,  3.18181818,  3.34343434,\n",
              "        3.50505051,  3.66666667,  3.82828283,  3.98989899,  4.15151515,\n",
              "        4.31313131,  4.47474747,  4.63636364,  4.7979798 ,  4.95959596,\n",
              "        5.12121212,  5.28282828,  5.44444444,  5.60606061,  5.76767677,\n",
              "        5.92929293,  6.09090909,  6.25252525,  6.41414141,  6.57575758,\n",
              "        6.73737374,  6.8989899 ,  7.06060606,  7.22222222,  7.38383838,\n",
              "        7.54545455,  7.70707071,  7.86868687,  8.03030303,  8.19191919,\n",
              "        8.35353535,  8.51515152,  8.67676768,  8.83838384,  9.        ])"
            ]
          },
          "metadata": {
            "tags": []
          },
          "execution_count": 33
        }
      ]
    },
    {
      "cell_type": "code",
      "metadata": {
        "id": "LhvRs-e4rbFd",
        "colab_type": "code",
        "colab": {}
      },
      "source": [
        "y_axis_vals = f(torch.tensor(x_axis_vals)).numpy()"
      ],
      "execution_count": null,
      "outputs": []
    },
    {
      "cell_type": "code",
      "metadata": {
        "id": "POtGX85yrSl7",
        "colab_type": "code",
        "colab": {
          "base_uri": "https://localhost:8080/",
          "height": 285
        },
        "outputId": "47889d66-02ff-430d-93ec-426b2c0332ed"
      },
      "source": [
        "sns.lineplot(x_axis_vals, y_axis_vals, label='$f(x)= \\sin(x-2)\\cdot(x+2)^2+\\sqrt{\\cos(x)}$')"
      ],
      "execution_count": null,
      "outputs": [
        {
          "output_type": "execute_result",
          "data": {
            "text/plain": [
              "<matplotlib.axes._subplots.AxesSubplot at 0x7fbc398860b8>"
            ]
          },
          "metadata": {
            "tags": []
          },
          "execution_count": 36
        },
        {
          "output_type": "display_data",
          "data": {
            "image/png": "[encoded data removed]",
            "application/pdf": "[encoded data removed]",
            "text/plain": [
              "<Figure size 432x288 with 1 Axes>"
            ]
          },
          "metadata": {
            "tags": [],
            "needs_background": "light"
          }
        }
      ]
    },
    {
      "cell_type": "code",
      "metadata": {
        "id": "sknrhfBNvoqJ",
        "colab_type": "code",
        "colab": {}
      },
      "source": [
        "def fP(x): #Defining the derivative of f(x) manually\n",
        "    return torch.mul(2,(x+2.0),torch.sin(x-2)) \n",
        "\n",
        "y_axis_vals_p = fP(torch.tensor(x_axis_vals)).numpy()\n",
        "\n",
        "#First, lets draw a black line at 0, so that we can easily tell if something is positive or negative\n",
        "sns.lineplot(x_axis_vals, [0.0]*len(x_axis_vals), label=\"0\", color='black')\n",
        "sns.lineplot(x_axis_vals, y_axis_vals, label='$f(x) = (x-2)^2$')\n",
        "sns.lineplot(x_axis_vals, y_axis_vals_p, label=\"$f'(x)=2 x - 4$\")"
      ],
      "execution_count": null,
      "outputs": []
    },
    {
      "cell_type": "code",
      "metadata": {
        "id": "ckbyxc-8votn",
        "colab_type": "code",
        "colab": {}
      },
      "source": [
        ""
      ],
      "execution_count": null,
      "outputs": []
    },
    {
      "cell_type": "code",
      "metadata": {
        "id": "aP-2FLVzvQWe",
        "colab_type": "code",
        "colab": {
          "base_uri": "https://localhost:8080/",
          "height": 34
        },
        "outputId": "ea85517e-f77b-431b-b027-1914b5c21b10"
      },
      "source": [
        "x = torch.tensor([4.0], requires_grad=True)\n",
        "print(x.grad)"
      ],
      "execution_count": null,
      "outputs": [
        {
          "output_type": "stream",
          "text": [
            "None\n"
          ],
          "name": "stdout"
        }
      ]
    },
    {
      "cell_type": "code",
      "metadata": {
        "id": "xJefBzSivS1k",
        "colab_type": "code",
        "colab": {
          "base_uri": "https://localhost:8080/",
          "height": 34
        },
        "outputId": "b000f9d2-15ce-4006-ebaa-8a0ab14a5aba"
      },
      "source": [
        "value = f(x)\n",
        "print(value)"
      ],
      "execution_count": null,
      "outputs": [
        {
          "output_type": "stream",
          "text": [
            "tensor([nan], grad_fn=<AddBackward0>)\n"
          ],
          "name": "stdout"
        }
      ]
    },
    {
      "cell_type": "code",
      "metadata": {
        "id": "IALQu1Y8rkqn",
        "colab_type": "code",
        "colab": {
          "base_uri": "https://localhost:8080/",
          "height": 34
        },
        "outputId": "06f390ce-c3eb-4607-f2d0-75d1ae5a266c"
      },
      "source": [
        "x = torch.tensor([-3.5], requires_grad=True)\n",
        "\n",
        "x_cur = x.clone()\n",
        "x_prev = x_cur*100\n",
        "epsilon = 1e-5\n",
        "eta = 0.1\n",
        "\n",
        "while torch.norm(x_cur-x_prev) > epsilon:\n",
        "    x_prev = x_cur.clone() #We need to make a clone here so that x_prev and x_cur don't point to the same object!\n",
        "    \n",
        "    #Compute our function, gradient, and update\n",
        "    value = f(x)\n",
        "    value.backward()\n",
        "    x.data -= eta * x.grad\n",
        "    x.grad.zero_() #We need to zero out the old gradient, as py-torch will not do that for us\n",
        "    \n",
        "    #What are we currently now?\n",
        "    x_cur = x.data\n",
        "    \n",
        "print(x_cur)"
      ],
      "execution_count": null,
      "outputs": [
        {
          "output_type": "stream",
          "text": [
            "tensor([nan])\n"
          ],
          "name": "stdout"
        }
      ]
    },
    {
      "cell_type": "code",
      "metadata": {
        "id": "pAVbDiMxvIpP",
        "colab_type": "code",
        "colab": {}
      },
      "source": [
        ""
      ],
      "execution_count": null,
      "outputs": []
    }
  ]
}