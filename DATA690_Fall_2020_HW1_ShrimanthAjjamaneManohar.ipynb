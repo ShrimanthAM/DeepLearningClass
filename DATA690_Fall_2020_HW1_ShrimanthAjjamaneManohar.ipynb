{
  "nbformat": 4,
  "nbformat_minor": 0,
  "metadata": {
    "author": "mes$",
    "celltoolbar": "Edit Metadata",
    "kernelspec": {
      "display_name": "Python 3",
      "language": "python",
      "name": "python3"
    },
    "language_info": {
      "codemirror_mode": {
        "name": "ipython",
        "version": 3
      },
      "file_extension": ".py",
      "mimetype": "text/x-python",
      "name": "python",
      "nbconvert_exporter": "python",
      "pygments_lexer": "ipython3",
      "version": "3.7.5"
    },
    "latex_envs": {
      "LaTeX_envs_menu_present": true,
      "autoclose": false,
      "autocomplete": false,
      "bibliofile": "biblio.bib",
      "cite_by": "apalike",
      "current_citInitial": 1,
      "eqLabelWithNumbers": true,
      "eqNumInitial": 1,
      "hotkeys": {
        "equation": "Ctrl-E",
        "itemize": "Ctrl-I"
      },
      "labels_anchors": false,
      "latex_user_defs": false,
      "report_style_numbering": false,
      "user_envs_cfg": false
    },
    "latex_metadata": {
      "title": "PyTorch Foundations"
    },
    "varInspector": {
      "cols": {
        "lenName": 16,
        "lenType": 16,
        "lenVar": 40
      },
      "kernels_config": {
        "python": {
          "delete_cmd_postfix": "",
          "delete_cmd_prefix": "del ",
          "library": "var_list.py",
          "varRefreshCmd": "print(var_dic_list())"
        },
        "r": {
          "delete_cmd_postfix": ") ",
          "delete_cmd_prefix": "rm(",
          "library": "var_list.r",
          "varRefreshCmd": "cat(var_dic_list()) "
        }
      },
      "types_to_exclude": [
        "module",
        "function",
        "builtin_function_or_method",
        "instance",
        "_Feature"
      ],
      "window_display": false
    },
    "colab": {
      "name": "DATA690 Fall 2020: HW1 ShrimanthAjjamaneManohar.ipynb",
      "provenance": [],
      "collapsed_sections": [],
      "toc_visible": true,
      "include_colab_link": true
    },
    "accelerator": "GPU"
  },
  "cells": [
    {
      "cell_type": "markdown",
      "metadata": {
        "id": "view-in-github",
        "colab_type": "text"
      },
      "source": [
        "<a href=\"https://colab.research.google.com/github/ShrimanthAM/DeepLearningClass/blob/master/DATA690_Fall_2020_HW1_ShrimanthAjjamaneManohar.ipynb\" target=\"_parent\"><img src=\"https://colab.research.google.com/assets/colab-badge.svg\" alt=\"Open In Colab\"/></a>"
      ]
    },
    {
      "cell_type": "markdown",
      "metadata": {
        "id": "zZOab98hlV_p",
        "colab_type": "text"
      },
      "source": [
        "# HW 1, Due  September 14th, 2020, 1 minute before class starts. \n",
        "\n"
      ]
    },
    {
      "cell_type": "code",
      "metadata": {
        "ExecuteTime": {
          "end_time": "2020-05-09T05:50:24.594119Z",
          "start_time": "2020-05-09T05:50:24.019015Z"
        },
        "tags": [
          "remove_output"
        ],
        "id": "W8Q1HVI8-DDY",
        "colab_type": "code",
        "colab": {}
      },
      "source": [
        "# importing the required libraries\n",
        "import seaborn as sns\n",
        "import matplotlib.pyplot as plt\n",
        "import numpy as np\n",
        "from tqdm.autonotebook import tqdm\n",
        "import pandas as pd\n",
        "\n",
        "%matplotlib inline\n",
        "from IPython.display import set_matplotlib_formats\n",
        "set_matplotlib_formats('png', 'pdf')\n",
        "\n",
        "import torch\n",
        "\n",
        "import timeit\n",
        "\n",
        "import pandas as pd"
      ],
      "execution_count": 62,
      "outputs": []
    },
    {
      "cell_type": "code",
      "metadata": {
        "ExecuteTime": {
          "end_time": "2020-05-09T05:50:25.718462Z",
          "start_time": "2020-05-09T05:50:25.713398Z"
        },
        "id": "Ow6jpi5--DDl",
        "colab_type": "code",
        "colab": {}
      },
      "source": [
        " # defining torch_tesnor3d\n",
        " torch_tensor3d = torch.tensor([\n",
        "                            [\n",
        "                            [ 1,  2,  3], \n",
        "                            [ 4,  5,  6],\n",
        "                            ],\n",
        "                            [\n",
        "                            [ 7,  8,  9], \n",
        "                            [10, 11, 12],\n",
        "                            ],\n",
        "                            [\n",
        "                            [13, 14, 15], \n",
        "                            [16, 17, 18],\n",
        "                            ],\n",
        "                            [\n",
        "                            [19, 20, 21], \n",
        "                            [22, 23, 24],\n",
        "                            ]\n",
        "                              ])"
      ],
      "execution_count": 43,
      "outputs": []
    },
    {
      "cell_type": "code",
      "metadata": {
        "ExecuteTime": {
          "end_time": "2020-05-09T05:50:26.795353Z",
          "start_time": "2020-05-09T05:50:26.789921Z"
        },
        "id": "WTpiNicf-DDo",
        "colab_type": "code",
        "colab": {
          "base_uri": "https://localhost:8080/",
          "height": 34
        },
        "outputId": "04193d6b-0fb9-4b2c-db3e-d2b497189fb6"
      },
      "source": [
        "print(torch_tensor3d.size()) # shape of the tensor "
      ],
      "execution_count": 46,
      "outputs": [
        {
          "output_type": "stream",
          "text": [
            "torch.Size([4, 2, 3])\n"
          ],
          "name": "stdout"
        }
      ]
    },
    {
      "cell_type": "code",
      "metadata": {
        "ExecuteTime": {
          "end_time": "2020-05-09T05:50:36.124878Z",
          "start_time": "2020-05-09T05:50:36.092633Z"
        },
        "id": "jxESK0Xx-DEL",
        "colab_type": "code",
        "colab": {
          "base_uri": "https://localhost:8080/",
          "height": 34
        },
        "outputId": "7553f32b-d41a-48a1-d27a-e516331c0a83"
      },
      "source": [
        "\n",
        "print(\"Is CUDA available? :\", torch.cuda.is_available())\n",
        "device = torch.device(\"cuda\")\n"
      ],
      "execution_count": 47,
      "outputs": [
        {
          "output_type": "stream",
          "text": [
            "Is CUDA available? : True\n"
          ],
          "name": "stdout"
        }
      ]
    },
    {
      "cell_type": "code",
      "metadata": {
        "id": "YN6ynuJpCTle",
        "colab_type": "code",
        "colab": {}
      },
      "source": [
        "if torch.cuda.is_available():\n",
        "  device = torch.device(\"cuda\")\n",
        "else:\n",
        "  device = torch.device(\"cpu\")"
      ],
      "execution_count": 48,
      "outputs": []
    },
    {
      "cell_type": "code",
      "metadata": {
        "id": "n7u3FR34u7Bi",
        "colab_type": "code",
        "colab": {
          "base_uri": "https://localhost:8080/",
          "height": 34
        },
        "outputId": "757908f6-c5b8-466e-9cdb-a377edb32b89"
      },
      "source": [
        "device"
      ],
      "execution_count": 49,
      "outputs": [
        {
          "output_type": "execute_result",
          "data": {
            "text/plain": [
              "device(type='cuda')"
            ]
          },
          "metadata": {
            "tags": []
          },
          "execution_count": 49
        }
      ]
    },
    {
      "cell_type": "markdown",
      "metadata": {
        "id": "MypOJZfq-DE4",
        "colab_type": "text"
      },
      "source": [
        "\n",
        "**Q1**. Write a series of `for` loops that compute the average value in `torch_tensor3d`\n"
      ]
    },
    {
      "cell_type": "code",
      "metadata": {
        "id": "Z_F3OdU_qqR_",
        "colab_type": "code",
        "colab": {}
      },
      "source": [
        "# defining a list to store the shape of torch_tensor3d\n",
        "l=[]"
      ],
      "execution_count": 50,
      "outputs": []
    },
    {
      "cell_type": "code",
      "metadata": {
        "id": "WwNNzpNUcJzC",
        "colab_type": "code",
        "colab": {}
      },
      "source": [
        "l=torch_tensor3d.shape"
      ],
      "execution_count": 51,
      "outputs": []
    },
    {
      "cell_type": "code",
      "metadata": {
        "id": "HPMbjFJvcKGI",
        "colab_type": "code",
        "colab": {
          "base_uri": "https://localhost:8080/",
          "height": 34
        },
        "outputId": "509aba49-cd7f-48b4-8b65-6fc58c0ce44c"
      },
      "source": [
        "list1=[] # list to store all the values of the tensor\n",
        "for x in range(l[0]):\n",
        "    for y in range(l[1]):\n",
        "        for z in range(l[2]):\n",
        "          list1.append(torch_tensor3d[x][y][z])\n",
        "lst=torch.tensor(list1)\n",
        "n=l[0]*l[1]*l[2]\n",
        "total=torch.sum(lst)\n",
        "avg=(total.item())/n\n",
        "print('Average value of tensor is', avg)\n"
      ],
      "execution_count": 52,
      "outputs": [
        {
          "output_type": "stream",
          "text": [
            "Average value of tensor is 12.5\n"
          ],
          "name": "stdout"
        }
      ]
    },
    {
      "cell_type": "markdown",
      "metadata": {
        "id": "xlDcre6ccKp9",
        "colab_type": "text"
      },
      "source": [
        "**Q2**. Write code that indexes into `torch_tensor3d` and prints out the value \"13\"."
      ]
    },
    {
      "cell_type": "code",
      "metadata": {
        "id": "jjiqRyWoKL-h",
        "colab_type": "code",
        "colab": {
          "base_uri": "https://localhost:8080/",
          "height": 202
        },
        "outputId": "1ea5d0dc-d5bb-4870-80b9-d58b44463917"
      },
      "source": [
        "torch_tensor3d"
      ],
      "execution_count": 54,
      "outputs": [
        {
          "output_type": "execute_result",
          "data": {
            "text/plain": [
              "tensor([[[ 1,  2,  3],\n",
              "         [ 4,  5,  6]],\n",
              "\n",
              "        [[ 7,  8,  9],\n",
              "         [10, 11, 12]],\n",
              "\n",
              "        [[13, 14, 15],\n",
              "         [16, 17, 18]],\n",
              "\n",
              "        [[19, 20, 21],\n",
              "         [22, 23, 24]]])"
            ]
          },
          "metadata": {
            "tags": []
          },
          "execution_count": 54
        }
      ]
    },
    {
      "cell_type": "code",
      "metadata": {
        "id": "a81sEwHyqAWe",
        "colab_type": "code",
        "colab": {
          "base_uri": "https://localhost:8080/",
          "height": 34
        },
        "outputId": "2d02c44e-5163-48fe-db33-8f5171d40fad"
      },
      "source": [
        "torch_tensor3d[2][0][0].item()"
      ],
      "execution_count": 55,
      "outputs": [
        {
          "output_type": "execute_result",
          "data": {
            "text/plain": [
              "13"
            ]
          },
          "metadata": {
            "tags": []
          },
          "execution_count": 55
        }
      ]
    },
    {
      "cell_type": "markdown",
      "metadata": {
        "id": "6RppWscvuc84",
        "colab_type": "text"
      },
      "source": [
        "**Q3**. For every power of 2 (i.e., $2^i$ or `2**i` ) up to $2^{11}$, create a random matrix $X \\in \\mathbb{R}^{2^i, 2^i}$ (i.e., `X.shape` should give `(2**i, 2**i)`). Time how long it takes to compute $X X$ (i.e., `X @ X`) on a CPU and on a GPU and plot the speedup. For what sized matrices is the CPU faster than the GPU?"
      ]
    },
    {
      "cell_type": "code",
      "metadata": {
        "id": "ADZFG4ZSVnje",
        "colab_type": "code",
        "colab": {
          "base_uri": "https://localhost:8080/",
          "height": 34
        },
        "outputId": "33ccd6d7-8b83-4c79-88ae-08bbedcb0773"
      },
      "source": [
        "# CPU computation speed\n",
        "t_cpu=[]\n",
        "for i in range (11):\n",
        "   x = torch.rand(2**i, 2**i)\n",
        "   #print(c.shape)\n",
        "   time_cpu = timeit.timeit(\"x@x\", globals=globals(), number=1000)\n",
        "   time_cpu=round(time_cpu, 5)\n",
        "   t_cpu.append(time_cpu)\n",
        "print(t_cpu)"
      ],
      "execution_count": 57,
      "outputs": [
        {
          "output_type": "stream",
          "text": [
            "[0.00921, 0.00735, 0.00527, 0.00695, 0.00644, 0.00709, 0.01082, 0.0314, 0.24198, 1.95126, 15.14791]\n"
          ],
          "name": "stdout"
        }
      ]
    },
    {
      "cell_type": "code",
      "metadata": {
        "id": "640tkkhBqwE5",
        "colab_type": "code",
        "colab": {
          "base_uri": "https://localhost:8080/",
          "height": 282
        },
        "outputId": "da41d1b0-ba5d-4361-a2df-b3605091ee90"
      },
      "source": [
        "# ploting the CPU computation values\n",
        "plt.plot(t_cpu)"
      ],
      "execution_count": 58,
      "outputs": [
        {
          "output_type": "execute_result",
          "data": {
            "text/plain": [
              "[<matplotlib.lines.Line2D at 0x7f0c1a94cac8>]"
            ]
          },
          "metadata": {
            "tags": []
          },
          "execution_count": 58
        },
        {
          "output_type": "display_data",
          "data": {
            "image/png": "[encoded data removed]",
            "application/pdf": "[encoded data removed]",
            "text/plain": [
              "<Figure size 432x288 with 1 Axes>"
            ]
          },
          "metadata": {
            "tags": [],
            "needs_background": "light"
          }
        }
      ]
    },
    {
      "cell_type": "code",
      "metadata": {
        "id": "1--xksAjubnu",
        "colab_type": "code",
        "colab": {
          "base_uri": "https://localhost:8080/",
          "height": 34
        },
        "outputId": "c95a0a97-4092-42cb-d88d-ded17449df09"
      },
      "source": [
        "# GPU computation speed\n",
        "t_gpu=[]\n",
        "for i in range (11):\n",
        "   y = torch.rand(2**i,2**i)\n",
        "   y = y.to(device)\n",
        "   time_gpu = timeit.timeit(\"y@y\", globals=globals(), number=1000)\n",
        "   time_gpu=round(time_gpu,5)\n",
        "   t_gpu.append(time_gpu)\n",
        "print(t_gpu)"
      ],
      "execution_count": 59,
      "outputs": [
        {
          "output_type": "stream",
          "text": [
            "[0.01519, 0.01014, 0.00976, 0.00979, 0.00942, 0.01013, 0.0114, 0.00965, 0.00972, 0.00981, 0.26083]\n"
          ],
          "name": "stdout"
        }
      ]
    },
    {
      "cell_type": "code",
      "metadata": {
        "id": "EzL1JpmH08Te",
        "colab_type": "code",
        "colab": {
          "base_uri": "https://localhost:8080/",
          "height": 282
        },
        "outputId": "c10f1b36-2293-4187-8884-6a0eaf098dd5"
      },
      "source": [
        "#plotting the GPU computaion values \n",
        "plt.plot(t_gpu)"
      ],
      "execution_count": 60,
      "outputs": [
        {
          "output_type": "execute_result",
          "data": {
            "text/plain": [
              "[<matplotlib.lines.Line2D at 0x7f0c1a929390>]"
            ]
          },
          "metadata": {
            "tags": []
          },
          "execution_count": 60
        },
        {
          "output_type": "display_data",
          "data": {
            "image/png": "[encoded data removed]",
            "application/pdf": "[encoded data removed]",
            "text/plain": [
              "<Figure size 432x288 with 1 Axes>"
            ]
          },
          "metadata": {
            "tags": [],
            "needs_background": "light"
          }
        }
      ]
    },
    {
      "cell_type": "code",
      "metadata": {
        "id": "iG_IBZ2_MA_x",
        "colab_type": "code",
        "colab": {
          "base_uri": "https://localhost:8080/",
          "height": 282
        },
        "outputId": "2c674ad7-8b66-49a9-d4be-9e0dcfe521d0"
      },
      "source": [
        "plt.plot(t_cpu, label='CPU')\n",
        "plt.plot(t_gpu, label='GPU')\n",
        "plt.legend()"
      ],
      "execution_count": 61,
      "outputs": [
        {
          "output_type": "execute_result",
          "data": {
            "text/plain": [
              "<matplotlib.legend.Legend at 0x7f0c1a88c438>"
            ]
          },
          "metadata": {
            "tags": []
          },
          "execution_count": 61
        },
        {
          "output_type": "display_data",
          "data": {
            "image/png": "[encoded data removed]",
            "application/pdf": "[encoded data removed]",
            "text/plain": [
              "<Figure size 432x288 with 1 Axes>"
            ]
          },
          "metadata": {
            "tags": [],
            "needs_background": "light"
          }
        }
      ]
    },
    {
      "cell_type": "code",
      "metadata": {
        "id": "jFWsv2sOQ70M",
        "colab_type": "code",
        "colab": {}
      },
      "source": [
        "df=pd.DataFrame({'CPU_time':t_cpu,'GPU_time':t_gpu}, columns=['CPU_time','GPU_time'], index=[1,2,3,4,5,6,7,8,9,10,11])"
      ],
      "execution_count": 77,
      "outputs": []
    },
    {
      "cell_type": "code",
      "metadata": {
        "id": "kqKzif2kQ8Gg",
        "colab_type": "code",
        "colab": {
          "base_uri": "https://localhost:8080/",
          "height": 373
        },
        "outputId": "f393b020-2b24-4b40-d644-af339b20da30"
      },
      "source": [
        "df"
      ],
      "execution_count": 78,
      "outputs": [
        {
          "output_type": "execute_result",
          "data": {
            "text/html": [
              "<div>\n",
              "<style scoped>\n",
              "    .dataframe tbody tr th:only-of-type {\n",
              "        vertical-align: middle;\n",
              "    }\n",
              "\n",
              "    .dataframe tbody tr th {\n",
              "        vertical-align: top;\n",
              "    }\n",
              "\n",
              "    .dataframe thead th {\n",
              "        text-align: right;\n",
              "    }\n",
              "</style>\n",
              "<table border=\"1\" class=\"dataframe\">\n",
              "  <thead>\n",
              "    <tr style=\"text-align: right;\">\n",
              "      <th></th>\n",
              "      <th>CPU_time</th>\n",
              "      <th>GPU_time</th>\n",
              "    </tr>\n",
              "  </thead>\n",
              "  <tbody>\n",
              "    <tr>\n",
              "      <th>1</th>\n",
              "      <td>0.00921</td>\n",
              "      <td>0.01519</td>\n",
              "    </tr>\n",
              "    <tr>\n",
              "      <th>2</th>\n",
              "      <td>0.00735</td>\n",
              "      <td>0.01014</td>\n",
              "    </tr>\n",
              "    <tr>\n",
              "      <th>3</th>\n",
              "      <td>0.00527</td>\n",
              "      <td>0.00976</td>\n",
              "    </tr>\n",
              "    <tr>\n",
              "      <th>4</th>\n",
              "      <td>0.00695</td>\n",
              "      <td>0.00979</td>\n",
              "    </tr>\n",
              "    <tr>\n",
              "      <th>5</th>\n",
              "      <td>0.00644</td>\n",
              "      <td>0.00942</td>\n",
              "    </tr>\n",
              "    <tr>\n",
              "      <th>6</th>\n",
              "      <td>0.00709</td>\n",
              "      <td>0.01013</td>\n",
              "    </tr>\n",
              "    <tr>\n",
              "      <th>7</th>\n",
              "      <td>0.01082</td>\n",
              "      <td>0.01140</td>\n",
              "    </tr>\n",
              "    <tr>\n",
              "      <th>8</th>\n",
              "      <td>0.03140</td>\n",
              "      <td>0.00965</td>\n",
              "    </tr>\n",
              "    <tr>\n",
              "      <th>9</th>\n",
              "      <td>0.24198</td>\n",
              "      <td>0.00972</td>\n",
              "    </tr>\n",
              "    <tr>\n",
              "      <th>10</th>\n",
              "      <td>1.95126</td>\n",
              "      <td>0.00981</td>\n",
              "    </tr>\n",
              "    <tr>\n",
              "      <th>11</th>\n",
              "      <td>15.14791</td>\n",
              "      <td>0.26083</td>\n",
              "    </tr>\n",
              "  </tbody>\n",
              "</table>\n",
              "</div>"
            ],
            "text/plain": [
              "    CPU_time  GPU_time\n",
              "1    0.00921   0.01519\n",
              "2    0.00735   0.01014\n",
              "3    0.00527   0.00976\n",
              "4    0.00695   0.00979\n",
              "5    0.00644   0.00942\n",
              "6    0.00709   0.01013\n",
              "7    0.01082   0.01140\n",
              "8    0.03140   0.00965\n",
              "9    0.24198   0.00972\n",
              "10   1.95126   0.00981\n",
              "11  15.14791   0.26083"
            ]
          },
          "metadata": {
            "tags": []
          },
          "execution_count": 78
        }
      ]
    },
    {
      "cell_type": "markdown",
      "metadata": {
        "id": "hDeSEn6zTWT8",
        "colab_type": "text"
      },
      "source": [
        "By looking at the above table we can say that for matrix multiplication of upto 2^7 * 2^7  the CPU is faster "
      ]
    },
    {
      "cell_type": "markdown",
      "metadata": {
        "id": "824VWeCsorTp",
        "colab_type": "text"
      },
      "source": [
        "**Q4**. We used PyTorch to find the numeric solution to $f(x) = (x-2)^2$. Write code that will find the solution to  $f(x)= \\sin(x-2)\\cdot(x+2)^2+\\sqrt{\\cos(x)}$. What answer do you get?\n"
      ]
    },
    {
      "cell_type": "code",
      "metadata": {
        "id": "DsVqhvhpvd5a",
        "colab_type": "code",
        "colab": {}
      },
      "source": [
        "#def f(x):\n",
        "#    return torch.pow((x-2.0), 2) \n",
        "\n",
        "def f(x):\n",
        "  return torch.add(torch.mul(torch.sin(x-2.0),torch.pow((x+2.0),2)),torch.sqrt(torch.cos(x)))\n",
        "\n",
        "#x_axis_vals = np.linspace(-7,9,100) \n",
        "#y_axis_vals = f(torch.tensor(x_axis_vals)).numpy()\n",
        "\n",
        "#sns.lineplot(x_axis_vals, y_axis_vals, label='$f(x)=(x-2)^2$')"
      ],
      "execution_count": 19,
      "outputs": []
    },
    {
      "cell_type": "code",
      "metadata": {
        "id": "MDicTg87pwFj",
        "colab_type": "code",
        "colab": {}
      },
      "source": [
        "x_axis_vals = np.linspace(-5,9,100)"
      ],
      "execution_count": 20,
      "outputs": []
    },
    {
      "cell_type": "code",
      "metadata": {
        "id": "8zov4K4NrJvy",
        "colab_type": "code",
        "colab": {
          "base_uri": "https://localhost:8080/",
          "height": 353
        },
        "outputId": "14c6a6ec-2d01-4de8-e600-8b060a123956"
      },
      "source": [
        "x_axis_vals"
      ],
      "execution_count": 21,
      "outputs": [
        {
          "output_type": "execute_result",
          "data": {
            "text/plain": [
              "array([-5.        , -4.85858586, -4.71717172, -4.57575758, -4.43434343,\n",
              "       -4.29292929, -4.15151515, -4.01010101, -3.86868687, -3.72727273,\n",
              "       -3.58585859, -3.44444444, -3.3030303 , -3.16161616, -3.02020202,\n",
              "       -2.87878788, -2.73737374, -2.5959596 , -2.45454545, -2.31313131,\n",
              "       -2.17171717, -2.03030303, -1.88888889, -1.74747475, -1.60606061,\n",
              "       -1.46464646, -1.32323232, -1.18181818, -1.04040404, -0.8989899 ,\n",
              "       -0.75757576, -0.61616162, -0.47474747, -0.33333333, -0.19191919,\n",
              "       -0.05050505,  0.09090909,  0.23232323,  0.37373737,  0.51515152,\n",
              "        0.65656566,  0.7979798 ,  0.93939394,  1.08080808,  1.22222222,\n",
              "        1.36363636,  1.50505051,  1.64646465,  1.78787879,  1.92929293,\n",
              "        2.07070707,  2.21212121,  2.35353535,  2.49494949,  2.63636364,\n",
              "        2.77777778,  2.91919192,  3.06060606,  3.2020202 ,  3.34343434,\n",
              "        3.48484848,  3.62626263,  3.76767677,  3.90909091,  4.05050505,\n",
              "        4.19191919,  4.33333333,  4.47474747,  4.61616162,  4.75757576,\n",
              "        4.8989899 ,  5.04040404,  5.18181818,  5.32323232,  5.46464646,\n",
              "        5.60606061,  5.74747475,  5.88888889,  6.03030303,  6.17171717,\n",
              "        6.31313131,  6.45454545,  6.5959596 ,  6.73737374,  6.87878788,\n",
              "        7.02020202,  7.16161616,  7.3030303 ,  7.44444444,  7.58585859,\n",
              "        7.72727273,  7.86868687,  8.01010101,  8.15151515,  8.29292929,\n",
              "        8.43434343,  8.57575758,  8.71717172,  8.85858586,  9.        ])"
            ]
          },
          "metadata": {
            "tags": []
          },
          "execution_count": 21
        }
      ]
    },
    {
      "cell_type": "code",
      "metadata": {
        "id": "LhvRs-e4rbFd",
        "colab_type": "code",
        "colab": {}
      },
      "source": [
        "y_axis_vals = f(torch.tensor(x_axis_vals)).numpy()"
      ],
      "execution_count": 22,
      "outputs": []
    },
    {
      "cell_type": "code",
      "metadata": {
        "id": "POtGX85yrSl7",
        "colab_type": "code",
        "colab": {
          "base_uri": "https://localhost:8080/",
          "height": 282
        },
        "outputId": "292ccc4e-842f-4d27-d798-d0d3680d7af7"
      },
      "source": [
        "sns.lineplot(x_axis_vals, y_axis_vals, label='$f(x)= \\sin(x-2)\\cdot(x+2)^2+\\sqrt{\\cos(x)}$')"
      ],
      "execution_count": 23,
      "outputs": [
        {
          "output_type": "execute_result",
          "data": {
            "text/plain": [
              "<matplotlib.axes._subplots.AxesSubplot at 0x7f0c1b393160>"
            ]
          },
          "metadata": {
            "tags": []
          },
          "execution_count": 23
        },
        {
          "output_type": "display_data",
          "data": {
            "image/png": "[encoded data removed]",
            "application/pdf": "[encoded data removed]",
            "text/plain": [
              "<Figure size 432x288 with 1 Axes>"
            ]
          },
          "metadata": {
            "tags": [],
            "needs_background": "light"
          }
        }
      ]
    },
    {
      "cell_type": "code",
      "metadata": {
        "id": "sknrhfBNvoqJ",
        "colab_type": "code",
        "colab": {}
      },
      "source": [
        "#def fP(x): #Defining the derivative of f(x) manually\n",
        "#    return torch.mul(2,(x+2.0),torch.sin(x-2)) \n",
        "\n",
        "#y_axis_vals_p = fP(torch.tensor(x_axis_vals)).numpy()\n",
        "\n",
        "#First, lets draw a black line at 0, so that we can easily tell if something is positive or negative\n",
        "#sns.lineplot(x_axis_vals, [0.0]*len(x_axis_vals), label=\"0\", color='black')\n",
        "#sns.lineplot(x_axis_vals, y_axis_vals, label='$f(x) = (x-2)^2$')\n",
        "#sns.lineplot(x_axis_vals, y_axis_vals_p, label=\"$f'(x)=2 x - 4$\")"
      ],
      "execution_count": 24,
      "outputs": []
    },
    {
      "cell_type": "code",
      "metadata": {
        "id": "ckbyxc-8votn",
        "colab_type": "code",
        "colab": {}
      },
      "source": [
        ""
      ],
      "execution_count": 24,
      "outputs": []
    },
    {
      "cell_type": "code",
      "metadata": {
        "id": "aP-2FLVzvQWe",
        "colab_type": "code",
        "colab": {
          "base_uri": "https://localhost:8080/",
          "height": 34
        },
        "outputId": "0b3c26c5-7540-4a3f-b38e-8ec5e647c179"
      },
      "source": [
        "x = torch.tensor([0.5], requires_grad=True)\n",
        "print(x.grad)"
      ],
      "execution_count": 25,
      "outputs": [
        {
          "output_type": "stream",
          "text": [
            "None\n"
          ],
          "name": "stdout"
        }
      ]
    },
    {
      "cell_type": "code",
      "metadata": {
        "id": "xJefBzSivS1k",
        "colab_type": "code",
        "colab": {
          "base_uri": "https://localhost:8080/",
          "height": 34
        },
        "outputId": "63dff9d0-cbf6-42bf-c4a6-6ce42d3ccfd1"
      },
      "source": [
        "value = f(x)\n",
        "print(value)"
      ],
      "execution_count": 26,
      "outputs": [
        {
          "output_type": "stream",
          "text": [
            "tensor([-5.2975], grad_fn=<AddBackward0>)\n"
          ],
          "name": "stdout"
        }
      ]
    },
    {
      "cell_type": "code",
      "metadata": {
        "id": "IALQu1Y8rkqn",
        "colab_type": "code",
        "colab": {
          "base_uri": "https://localhost:8080/",
          "height": 34
        },
        "outputId": "e7a41408-94d3-4026-aeb5-11aa22519855"
      },
      "source": [
        "x = torch.tensor([-1.0], requires_grad=True)\n",
        "\n",
        "x_cur = x.clone()\n",
        "x_prev = x_cur*100\n",
        "epsilon = 1e-5\n",
        "eta = 0.1\n",
        "\n",
        "while torch.norm(x_cur-x_prev) > epsilon:\n",
        "    x_prev = x_cur.clone() #We need to make a clone here so that x_prev and x_cur don't point to the same object!\n",
        "    \n",
        "    #Compute our function, gradient, and update\n",
        "    value = f(x)\n",
        "    value.backward()\n",
        "    x.data -= eta * x.grad\n",
        "    x.grad.zero_() #We need to zero out the old gradient, as py-torch will not do that for us\n",
        "    \n",
        "    #What are we currently now?\n",
        "    x_cur = x.data\n",
        "    \n",
        "print(x_cur)"
      ],
      "execution_count": 27,
      "outputs": [
        {
          "output_type": "stream",
          "text": [
            "tensor([1.0635])\n"
          ],
          "name": "stdout"
        }
      ]
    },
    {
      "cell_type": "code",
      "metadata": {
        "id": "pAVbDiMxvIpP",
        "colab_type": "code",
        "colab": {}
      },
      "source": [
        "x_param = torch.nn.Parameter(torch.tensor([-1.0]), requires_grad=True)"
      ],
      "execution_count": 28,
      "outputs": []
    },
    {
      "cell_type": "code",
      "metadata": {
        "id": "sQcJikOeNYNj",
        "colab_type": "code",
        "colab": {}
      },
      "source": [
        "optimizer = torch.optim.SGD([x_param], lr=eta)"
      ],
      "execution_count": 29,
      "outputs": []
    },
    {
      "cell_type": "code",
      "metadata": {
        "id": "cNB0usl7Na9y",
        "colab_type": "code",
        "colab": {
          "base_uri": "https://localhost:8080/",
          "height": 34
        },
        "outputId": "98e5a8d6-94b5-4733-ba8a-d5097bc3714d"
      },
      "source": [
        "for epoch in range(60):\n",
        "    optimizer.zero_grad() #x.grad.zero_()\n",
        "    loss_incurred  = f(x_param)\n",
        "    #f(inputs, parameters)\n",
        "    loss_incurred.backward()\n",
        "    optimizer.step() #x.data -= eta * x.grad\n",
        "print(x_param.data)"
      ],
      "execution_count": 30,
      "outputs": [
        {
          "output_type": "stream",
          "text": [
            "tensor([1.0635])\n"
          ],
          "name": "stdout"
        }
      ]
    },
    {
      "cell_type": "code",
      "metadata": {
        "id": "hxN8QLF7NeD3",
        "colab_type": "code",
        "colab": {}
      },
      "source": [
        ""
      ],
      "execution_count": null,
      "outputs": []
    }
  ]
}